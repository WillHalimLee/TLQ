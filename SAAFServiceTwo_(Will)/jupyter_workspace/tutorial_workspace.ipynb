{
 "cells": [
  {
   "cell_type": "markdown",
   "metadata": {},
   "source": [
    "# FaaSET Notebook\n",
    "\n",
    "This Jupyter Notebook provides an interactive platform for FaaS function development, testing, running experiments, and processing results."
   ]
  },
  {
   "cell_type": "code",
   "execution_count": null,
   "metadata": {},
   "outputs": [],
   "source": [
    "import FaaSET\n",
    "import FaaSRunner"
   ]
  },
  {
   "cell_type": "markdown",
   "metadata": {},
   "source": [
    "# Functions\n",
    "\n",
    "Any function with the @cloud_function decorator will be uploaded to the cloud. Define platforms and memory settings in the decorator. \n",
    "Functions are tested locally and must run sucessfully before being deployed."
   ]
  },
  {
   "cell_type": "code",
   "execution_count": null,
   "metadata": {},
   "outputs": [],
   "source": [
    "@FaaSET.cloud_function(platform=\"AWS\")\n",
    "def hello_world_faaset(request, context): \n",
    "    from SAAF import Inspector\n",
    "    inspector = Inspector()\n",
    "    inspector.inspectCPUInfo()\n",
    "    inspector.addAttribute(\"message\", \"Hello from the hotel lambda \" + str(request[\"name\"]) + \"!\")\n",
    "    return inspector.finish()\n",
    "\n",
    "def hello_world_local(request, context): \n",
    "    from SAAF import Inspector\n",
    "    inspector = Inspector()\n",
    "    inspector.inspectCPUInfo()\n",
    "    inspector.addAttribute(\"message\", \"Hello from your computer \" + str(request[\"name\"]) + \"!\") \n",
    "    return inspector.finish()\n",
    "\n",
    "# Run our local hello_world function and check the CPU.\n",
    "local = hello_world_local({\"name\": \"Steve\"}, None)\n",
    "\n",
    "# Run our cloud hello_world function and check the CPU.\n",
    "cloud = hello_world_faaset({\"name\": \"Steve\"}, None)\n",
    "\n",
    "print(\"\\n----- Results -----\\n\")\n",
    "print(\"Local CPU: \" + local['cpuType'])\n",
    "print(\"Cloud CPU: \" + cloud['cpuType'])"
   ]
  },
  {
   "cell_type": "code",
   "execution_count": null,
   "metadata": {},
   "outputs": [],
   "source": [
    "@FaaSET.cloud_function(platform=\"AWS\", config={\"storage\": 1024})\n",
    "def disk_writer_faaset(request, context):\n",
    "    from SAAF import Inspector\n",
    "    import random\n",
    "    import string\n",
    "    import os \n",
    "    \n",
    "    inspector = Inspector()\n",
    "    inspector.inspectAll() \n",
    "    \n",
    "    # Generate really long string in memory (Kinda fast?). \n",
    "    data = \"1234567890\"\n",
    "    for x in range(23):\n",
    "        data += data\n",
    "    \n",
    "    # Repeatedly write it to a file and delete it.\n",
    "    for i in range(request[\"loops\"]):\n",
    "        \n",
    "        # Write file...\n",
    "        write_file = open(\"/tmp/text\" + str(i) + \".txt\", \"w\")\n",
    "        a = write_file.write(data)\n",
    "        write_file.close()\n",
    "        \n",
    "        # Delete the file.\n",
    "        os.remove(\"/tmp/text\" + str(i) + \".txt\")\n",
    "    \n",
    "    inspector.inspectAllDeltas()\n",
    "    return inspector.finish()\n",
    "\n",
    "disk_writer_faaset({\"loops\": 3}, None)"
   ]
  },
  {
   "cell_type": "code",
   "execution_count": null,
   "metadata": {},
   "outputs": [],
   "source": [
    "@FaaSET.cloud_function(platform=\"AWS\", config={\"memory\": 1024})\n",
    "def calc_service_faaset(request, context):\n",
    "    from SAAF import Inspector\n",
    "    from random import randint\n",
    "    import time \n",
    "    from threading import Thread\n",
    "\n",
    "    inspector = Inspector()\n",
    "    inspector.inspectAll() \n",
    "\n",
    "    def do_calcs(calcs, loops):\n",
    "        operand_a = [0] * calcs\n",
    "        operand_b = [0] * calcs\n",
    "        operand_c = [0] * calcs\n",
    "\n",
    "        for k in range(0, loops):\n",
    "            for i in range(0, calcs):\n",
    "                j = randint(0, calcs - 1)\n",
    "                operand_a[j] = randint(0, 99999)\n",
    "                operand_b[j] = randint(0, 99999)\n",
    "                operand_c[j] = randint(0, 99999)\n",
    "                mult = operand_a[j] * operand_b[j]\n",
    "\n",
    "    threads = request[\"threads\"]\n",
    "    calcs = request[\"calcs\"]\n",
    "    loops = request[\"loops\"]\n",
    "    threadList = []\n",
    "    for i in range(0, threads):\n",
    "        thread = Thread(target=do_calcs, args=(calcs, loops))\n",
    "        thread.start()\n",
    "        threadList.append(thread)\n",
    "    for i in range(len(threadList)):\n",
    "        threadList[i].join()\n",
    "\n",
    "    inspector.inspectAllDeltas()\n",
    "    return inspector.finish()\n",
    "\n",
    "calc_service_faaset({\"threads\": 2, \"calcs\": 10000, \"loops\": 10})"
   ]
  },
  {
   "cell_type": "markdown",
   "metadata": {},
   "source": [
    "# Example Functions with Dependencies"
   ]
  },
  {
   "cell_type": "code",
   "execution_count": null,
   "metadata": {},
   "outputs": [],
   "source": [
    "# Install igraph dependency to local environment and\n",
    "# to function source code directory.\n",
    "%pip install python-igraph\n",
    "!mkdir ./functions/page_rank_faaset\n",
    "!python3.8 -m pip install igraph -t ./functions/page_rank_faaset\n",
    "\n",
    "@FaaSET.cloud_function(platform=\"AWS\")\n",
    "def page_rank_faaset(request, context):\n",
    "    from SAAF import Inspector \n",
    "    import datetime \n",
    "    import igraph\n",
    "    import time\n",
    "    \n",
    "    inspector = Inspector()\n",
    "    inspector.inspectAll()  \n",
    "    \n",
    "    size = request.get('size')  \n",
    "    loops = request.get('loops')\n",
    "\n",
    "    for x in range(loops):\n",
    "        graph = igraph.Graph.Tree(size, 10)\n",
    "        result = graph.pagerank()  \n",
    "\n",
    "    inspector.inspectAllDeltas()\n",
    "    return inspector.finish()\n",
    "\n",
    "page_rank_faaset({\"size\": 10000, \"loops\": 5}, None)"
   ]
  },
  {
   "cell_type": "markdown",
   "metadata": {},
   "source": [
    "# Execute Experiments\n",
    "\n",
    "Use FaaS Runner to execute complex FaaS Experiments."
   ]
  },
  {
   "cell_type": "code",
   "execution_count": null,
   "metadata": {},
   "outputs": [],
   "source": [
    "# Execute experiment\n",
    "memory_settings = [256, 512, 1024]\n",
    "\n",
    "for setting in memory_settings:\n",
    "    FaaSET.reconfigure(function=hello_world_faaset, config={\"memory\": setting})\n",
    "    FaaSRunner.experiment(\n",
    "        function=hello_world_faaset, \n",
    "        threads=5,\n",
    "        runs_per_thread=5,\n",
    "        payloads=[{\"name\": \"Bob\"}],\n",
    "        experiment_name=\"memory_test\")\n",
    "\n",
    "results = FaaSRunner.load(function=hello_world_faaset, experiment=\"memory_test\")\n",
    "results"
   ]
  },
  {
   "cell_type": "code",
   "execution_count": null,
   "metadata": {},
   "outputs": [],
   "source": [
    "# Execute experiment\n",
    "page_rank_results = FaaSRunner.experiment(\n",
    "    function=page_rank_faaset,\n",
    "    threads=30,\n",
    "    runs_per_thread=2,\n",
    "    payloads=[{\"size\": 50000, \"loops\": 5},\n",
    "              {\"size\": 100000, \"loops\": 5},\n",
    "              {\"size\": 150000, \"loops\": 5}],\n",
    "    experiment_name=\"concurrency_test\")\n",
    "\n",
    "page_rank_results"
   ]
  },
  {
   "cell_type": "code",
   "execution_count": null,
   "metadata": {},
   "outputs": [],
   "source": [
    "# Functions and Experiments can be written in the same cell!\n",
    "@FaaSET.cloud_function(platform=\"AWS\")\n",
    "def sleeper_faaset(request, context): \n",
    "    from SAAF import Inspector\n",
    "    import time\n",
    "    inspector = Inspector()\n",
    "    inspector.inspectAll()\n",
    "    time.sleep(request['time'])\n",
    "    inspector.inspectAllDeltas()\n",
    "    return inspector.finish()\n",
    "\n",
    "# Test function\n",
    "print(str(sleeper_faaset({\"time\": 1}, None)))\n",
    "\n",
    "# Define and execute experiment\n",
    "memory_settings = [2048, 4096, 6144]\n",
    "for setting in memory_settings:\n",
    "    FaaSET.reconfigure(function=sleeper_faaset, config={\"memory\": setting})\n",
    "    FaaSRunner.experiment(\n",
    "        function=sleeper_faaset, \n",
    "        threads=10,\n",
    "        runs_per_thread=1,\n",
    "        payloads=[{\"time\": 5}],\n",
    "        experiment_name=\"memory_test\")\n",
    "\n",
    "sleeper_results = FaaSRunner.load(function=sleeper_faaset, experiment=\"memory_test\")\n",
    "sleeper_results"
   ]
  },
  {
   "cell_type": "markdown",
   "metadata": {},
   "source": [
    "# General Statistics"
   ]
  },
  {
   "cell_type": "code",
   "execution_count": null,
   "metadata": {},
   "outputs": [],
   "source": [
    "# Run get general statistics\n",
    "def print_stats(data, metric):\n",
    "    print(\"--- Statistics for \" + metric + \". ---\")\n",
    "    print(\"* Min: \" + str(data[metric].min()))\n",
    "    print(\"* Max: \" + str(data[metric].max()))\n",
    "    print(\"* Sum: \" + str(data[metric].sum()))\n",
    "    print(\"* Mean: \" + str(data[metric].mean()))\n",
    "    print(\"* Standard Deviation: \" + str(data[metric].std()))\n",
    "    print(\"* Coefficient of Variation: \" + str(data[metric].std() / data[metric].mean()))\n",
    "    \n",
    "print_stats(page_rank_results, \"userRuntime\")"
   ]
  },
  {
   "cell_type": "code",
   "execution_count": null,
   "metadata": {},
   "outputs": [],
   "source": [
    "# Run a paired and unpaired T test.\n",
    "\n",
    "%pip install scipy\n",
    "\n",
    "import numpy as np\n",
    "from scipy.stats import ttest_ind\n",
    "from scipy.stats import ttest_rel\n",
    "\n",
    "x1 = page_rank_results['cpuUserDelta']\n",
    "x2 = page_rank_results['cpuIdleDelta']\n",
    "\n",
    "ttest_ind(x1, x2)\n",
    "ttest_rel(x1, x2)"
   ]
  },
  {
   "cell_type": "markdown",
   "metadata": {},
   "source": [
    "# Graph Results"
   ]
  },
  {
   "cell_type": "code",
   "execution_count": null,
   "metadata": {},
   "outputs": [],
   "source": [
    "# Imports for Graphing\n",
    "import plotly\n",
    "import plotly.graph_objects as go\n",
    "from plotly.subplots import make_subplots\n",
    "\n",
    "import pandas as pd"
   ]
  },
  {
   "cell_type": "code",
   "execution_count": null,
   "metadata": {},
   "outputs": [],
   "source": [
    "sleeper_results = FaaSRunner.load(function=sleeper_faaset, experiment=\"memory_test\")\n",
    "\n",
    "# Define figure style\n",
    "fig = make_subplots(specs = [[{\"secondary_y\": False}]])\n",
    "fig.update_layout(\n",
    "    barmode='stack',\n",
    "    legend=dict(orientation=\"h\", yanchor=\"bottom\", y=1.02, xanchor=\"center\", x=0.47),\n",
    "    margin=dict(t=0, b=1, l=1, r=1, autoexpand=True),\n",
    "    font=dict(size=16)\n",
    ")\n",
    "\n",
    "workloads = [sleeper_results, sleeper_results, sleeper_results]\n",
    "names = [\"2048 MB\", \"4096 MB\", \"6144 MB\"]\n",
    "targetMemory = [\"2048\", \"4096\", \"6144\"]\n",
    "\n",
    "finalData = pd.DataFrame()\n",
    "finalData['workloads'] = names\n",
    "\n",
    "cpuUsers = [] \n",
    "cpuIdles = []\n",
    "cpuKernels = []\n",
    "runtimes = []\n",
    "\n",
    "i = 0\n",
    "for workload in workloads:\n",
    "    cpuUsers.append(workload[workload['functionMemory'] == targetMemory[i]]['cpuUserDelta'].mean())\n",
    "    cpuIdles.append(workload[workload['functionMemory'] == targetMemory[i]]['cpuIdleDelta'].mean())\n",
    "    cpuKernels.append(workload[workload['functionMemory'] == targetMemory[i]]['cpuKernelDelta'].mean())\n",
    "    runtimes.append(workload[workload['functionMemory'] == targetMemory[i]]['runtime'].mean())\n",
    "    i += 1\n",
    "\n",
    "finalData['cpuUser'] = cpuUsers\n",
    "finalData['cpuIdle'] = cpuIdles\n",
    "finalData['cpuKernel'] = cpuKernels\n",
    "finalData['runtime'] = runtimes\n",
    "\n",
    "fig.add_trace(go.Bar(x = finalData[\"workloads\"],\n",
    "                y = finalData[\"cpuKernel\"], \n",
    "                name = \"CPU Kernel\", marker_color=\"rgba(179, 223, 146, 255)\"),\n",
    "                secondary_y=False)\n",
    "\n",
    "fig.add_trace(go.Bar(x = finalData[\"workloads\"],\n",
    "                y = finalData[\"cpuUser\"], \n",
    "                name = \"CPU User\", marker_color=\"rgba(0, 120, 179, 255)\"),\n",
    "                secondary_y=False)\n",
    "\n",
    "fig.add_trace(go.Bar(x = finalData[\"workloads\"],\n",
    "                y = finalData[\"cpuIdle\"], \n",
    "                name = \"CPU Idle\", marker_color=\"rgba(151, 209, 233, 255)\"),\n",
    "                secondary_y=False)\n",
    "\n",
    "# Set x-axis title\n",
    "fig.update_xaxes(title_text=\"Memory Setting\")\n",
    "\n",
    "# Set y-axes titles\n",
    "fig.update_yaxes(title_text=\"CPU Time (ms)\", secondary_y=False)\n",
    "\n",
    "fig.show()"
   ]
  },
  {
   "cell_type": "code",
   "execution_count": null,
   "metadata": {},
   "outputs": [],
   "source": [
    "# Import matplotlib and setup display.\n",
    "import matplotlib.pyplot as plt\n",
    "%matplotlib inline\n",
    "\n",
    "# Histogram of runtime\n",
    "plt.hist(page_rank_results['userRuntime'], 10)"
   ]
  }
 ],
 "metadata": {
  "interpreter": {
   "hash": "916dbcbb3f70747c44a77c7bcd40155683ae19c65e1c03b4aa3499c5328201f1"
  },
  "kernelspec": {
   "display_name": "Python 3 (ipykernel)",
   "language": "python",
   "name": "python3"
  },
  "language_info": {
   "codemirror_mode": {
    "name": "ipython",
    "version": 3
   },
   "file_extension": ".py",
   "mimetype": "text/x-python",
   "name": "python",
   "nbconvert_exporter": "python",
   "pygments_lexer": "ipython3",
   "version": "3.8.10"
  }
 },
 "nbformat": 4,
 "nbformat_minor": 2
}
